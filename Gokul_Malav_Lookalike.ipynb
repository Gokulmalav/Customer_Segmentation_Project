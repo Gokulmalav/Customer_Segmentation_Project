{
 "cells": [
  {
   "cell_type": "code",
   "execution_count": 2,
   "id": "e339baea-2a39-4386-934d-79258eea3767",
   "metadata": {},
   "outputs": [],
   "source": [
    "import pandas as pd"
   ]
  },
  {
   "cell_type": "code",
   "execution_count": 3,
   "id": "fb0ae881-9b7b-4723-8219-9b7ff78de04a",
   "metadata": {},
   "outputs": [],
   "source": [
    "customers_df = pd.read_csv(\"Customers.csv\")\n",
    "products_df = pd.read_csv(\"Products.csv\")"
   ]
  },
  {
   "cell_type": "code",
   "execution_count": 4,
   "id": "dfbf6842-245a-46be-b7e6-5dbf3b59214b",
   "metadata": {},
   "outputs": [
    {
     "name": "stdout",
     "output_type": "stream",
     "text": [
      "  CustomerID        CustomerName         Region  SignupDate\n",
      "0      C0001    Lawrence Carroll  South America  2022-07-10\n",
      "1      C0002      Elizabeth Lutz           Asia  2022-02-13\n",
      "2      C0003      Michael Rivera  South America  2024-03-07\n",
      "3      C0004  Kathleen Rodriguez  South America  2022-10-09\n",
      "4      C0005         Laura Weber           Asia  2022-08-15\n",
      "  ProductID              ProductName     Category   Price\n",
      "0      P001     ActiveWear Biography        Books  169.30\n",
      "1      P002    ActiveWear Smartwatch  Electronics  346.30\n",
      "2      P003  ComfortLiving Biography        Books   44.12\n",
      "3      P004            BookWorld Rug   Home Decor   95.69\n",
      "4      P005          TechPro T-Shirt     Clothing  429.31\n"
     ]
    }
   ],
   "source": [
    "print(customers_df.head())\n",
    "print(products_df.head())"
   ]
  },
  {
   "cell_type": "code",
   "execution_count": 5,
   "id": "bb1c7afa-b59e-4bfe-b9e9-ad4ce5e533d3",
   "metadata": {},
   "outputs": [],
   "source": [
    "# preprocessing"
   ]
  },
  {
   "cell_type": "code",
   "execution_count": 6,
   "id": "ba30bbfc-efde-4c73-bfde-f28b6b5b557f",
   "metadata": {},
   "outputs": [],
   "source": [
    "from sklearn.metrics.pairwise import cosine_similarity\n",
    "from sklearn.preprocessing import OneHotEncoder\n",
    "from sklearn.preprocessing import StandardScaler"
   ]
  },
  {
   "cell_type": "code",
   "execution_count": 7,
   "id": "f70ebfd1-9717-409b-be5d-dad745bda44a",
   "metadata": {},
   "outputs": [],
   "source": [
    "encoder = OneHotEncoder(sparse_output=False)"
   ]
  },
  {
   "cell_type": "code",
   "execution_count": 8,
   "id": "aaf2bb39-5bb0-4fc6-bff2-f95aa89c0bed",
   "metadata": {},
   "outputs": [],
   "source": [
    "region_encoded = encoder.fit_transform(customers_df[[\"Region\"]])"
   ]
  },
  {
   "cell_type": "code",
   "execution_count": 9,
   "id": "df8e61ac-2021-4935-91a2-e7b0de00fefa",
   "metadata": {},
   "outputs": [],
   "source": [
    "region_encoded_df = pd.DataFrame(region_encoded, columns=encoder.get_feature_names_out([\"Region\"]))\n",
    "customers_preprocessed = pd.concat([customers_df, region_encoded_df], axis=1)"
   ]
  },
  {
   "cell_type": "code",
   "execution_count": 10,
   "id": "19651a75-697a-4277-9c7f-3b3a2bc38424",
   "metadata": {},
   "outputs": [],
   "source": [
    "##convering signup dates to numeric days \n",
    "customers_preprocessed[\"SignupDate\"] = pd.to_datetime(customers_preprocessed[\"SignupDate\"])\n",
    "customers_preprocessed[\"SignupDate\"] = (pd.Timestamp.now() - customers_preprocessed[\"SignupDate\"]).dt.days\n",
    "customer_features = customers_preprocessed.drop(columns = [\"CustomerID\",\"CustomerName\",\"SignupDate\",\"Region\"])\n"
   ]
  },
  {
   "cell_type": "code",
   "execution_count": 11,
   "id": "133f251f-a5e2-4c1d-bc8b-3e22359a5118",
   "metadata": {},
   "outputs": [],
   "source": [
    "scaler = StandardScaler()\n",
    "customer_features_scaled = scaler.fit_transform(customer_features)"
   ]
  },
  {
   "cell_type": "code",
   "execution_count": 12,
   "id": "3673f96f-7b3b-4d70-9110-6a28ca43304c",
   "metadata": {},
   "outputs": [],
   "source": [
    "similarity_matrix = cosine_similarity(customer_features_scaled)"
   ]
  },
  {
   "cell_type": "code",
   "execution_count": 13,
   "id": "066f39a3-3d58-411d-a7a1-b4aec8f338dc",
   "metadata": {},
   "outputs": [],
   "source": [
    "first_20_ids = customers_df[\"CustomerID\"][:20].tolist()  ##customer id from 1 to 20"
   ]
  },
  {
   "cell_type": "code",
   "execution_count": 14,
   "id": "95425609-c5a4-49ef-9a9d-c4f207c1e3a0",
   "metadata": {},
   "outputs": [],
   "source": [
    "lookalike_map = {}\n",
    "for i, customer_id in enumerate(first_20_ids):\n",
    "    similarities = list(enumerate(similarity_matrix[i]))\n",
    "    sorted_similarities = sorted(\n",
    "    [(customers_df.iloc[j][\"CustomerID\"], score) for j, score in similarities if j < len(customers_df) and j !=i],\n",
    "    key = lambda x : x[1],\n",
    "    reverse = True\n",
    "    )\n",
    "    lookalike_map[customer_id] = sorted_similarities[:3]   ## for top 3 similar customer"
   ]
  },
  {
   "cell_type": "code",
   "execution_count": 15,
   "id": "37ba7e01-a333-46b9-b4c8-4bd5d539b346",
   "metadata": {},
   "outputs": [
    {
     "data": {
      "text/plain": [
       "'Gokul_Malav_Lookalike.csv'"
      ]
     },
     "execution_count": 15,
     "metadata": {},
     "output_type": "execute_result"
    }
   ],
   "source": [
    "## format the result into a dataframe for CSV output\n",
    "lookalike_data = []\n",
    "for cust_id, similar_customers in lookalike_map.items():\n",
    "    for similar_cust, score in similar_customers:\n",
    "        lookalike_data.append({\"CustomerID\": cust_id, \"LookalikeID\": similar_cust, \"Score\": score})\n",
    "\n",
    "lookalike_df = pd.DataFrame(lookalike_data)\n",
    "lookalike_csv_path = \"Gokul_Malav_Lookalike.csv\"\n",
    "lookalike_df.to_csv(lookalike_csv_path, index= False)\n",
    "\n",
    "lookalike_csv_path"
   ]
  },
  {
   "cell_type": "code",
   "execution_count": 19,
   "id": "a3b48136-bf02-4335-aff2-cef3cdc2a625",
   "metadata": {},
   "outputs": [
    {
     "data": {
      "text/html": [
       "<div>\n",
       "<style scoped>\n",
       "    .dataframe tbody tr th:only-of-type {\n",
       "        vertical-align: middle;\n",
       "    }\n",
       "\n",
       "    .dataframe tbody tr th {\n",
       "        vertical-align: top;\n",
       "    }\n",
       "\n",
       "    .dataframe thead th {\n",
       "        text-align: right;\n",
       "    }\n",
       "</style>\n",
       "<table border=\"1\" class=\"dataframe\">\n",
       "  <thead>\n",
       "    <tr style=\"text-align: right;\">\n",
       "      <th></th>\n",
       "      <th>CustomerID</th>\n",
       "      <th>LookalikeID</th>\n",
       "      <th>Score</th>\n",
       "    </tr>\n",
       "  </thead>\n",
       "  <tbody>\n",
       "    <tr>\n",
       "      <th>44</th>\n",
       "      <td>C0015</td>\n",
       "      <td>C0016</td>\n",
       "      <td>1.0</td>\n",
       "    </tr>\n",
       "    <tr>\n",
       "      <th>56</th>\n",
       "      <td>C0019</td>\n",
       "      <td>C0014</td>\n",
       "      <td>1.0</td>\n",
       "    </tr>\n",
       "    <tr>\n",
       "      <th>33</th>\n",
       "      <td>C0012</td>\n",
       "      <td>C0001</td>\n",
       "      <td>1.0</td>\n",
       "    </tr>\n",
       "    <tr>\n",
       "      <th>37</th>\n",
       "      <td>C0013</td>\n",
       "      <td>C0003</td>\n",
       "      <td>1.0</td>\n",
       "    </tr>\n",
       "    <tr>\n",
       "      <th>45</th>\n",
       "      <td>C0016</td>\n",
       "      <td>C0194</td>\n",
       "      <td>1.0</td>\n",
       "    </tr>\n",
       "  </tbody>\n",
       "</table>\n",
       "</div>"
      ],
      "text/plain": [
       "   CustomerID LookalikeID  Score\n",
       "44      C0015       C0016    1.0\n",
       "56      C0019       C0014    1.0\n",
       "33      C0012       C0001    1.0\n",
       "37      C0013       C0003    1.0\n",
       "45      C0016       C0194    1.0"
      ]
     },
     "execution_count": 19,
     "metadata": {},
     "output_type": "execute_result"
    }
   ],
   "source": [
    "lookalike_df.sample(5)"
   ]
  },
  {
   "cell_type": "code",
   "execution_count": null,
   "id": "9e9e75fa-f60f-416b-b322-5eaef8953522",
   "metadata": {},
   "outputs": [],
   "source": []
  }
 ],
 "metadata": {
  "kernelspec": {
   "display_name": "base",
   "language": "python",
   "name": "python3"
  },
  "language_info": {
   "codemirror_mode": {
    "name": "ipython",
    "version": 3
   },
   "file_extension": ".py",
   "mimetype": "text/x-python",
   "name": "python",
   "nbconvert_exporter": "python",
   "pygments_lexer": "ipython3",
   "version": "3.12.4"
  }
 },
 "nbformat": 4,
 "nbformat_minor": 5
}
